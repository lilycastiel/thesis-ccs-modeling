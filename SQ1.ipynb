{
 "cells": [
  {
   "cell_type": "markdown",
   "id": "875d6575-ab3b-48ca-9dc7-f3cc08b5e521",
   "metadata": {},
   "source": [
    "# Loading in Miocic Data"
   ]
  },
  {
   "cell_type": "code",
   "execution_count": 1,
   "id": "5975c1a6-bfea-4961-a3a9-9985aa5f1c19",
   "metadata": {},
   "outputs": [],
   "source": [
    "import pandas as pd\n",
    "import numpy as np\n",
    "from sklearn.preprocessing import OneHotEncoder"
   ]
  },
  {
   "cell_type": "code",
   "execution_count": 2,
   "id": "0fb5890a-6715-4a17-ba46-fc9e777f4874",
   "metadata": {},
   "outputs": [],
   "source": [
    "miocic = pd.read_csv('/home/jovyan/THESIS/miocic_database.csv')"
   ]
  },
  {
   "cell_type": "code",
   "execution_count": 3,
   "id": "f5082182-0ffd-4ec2-9e37-2cd13f1a4bad",
   "metadata": {},
   "outputs": [
    {
     "data": {
      "text/html": [
       "<div>\n",
       "<style scoped>\n",
       "    .dataframe tbody tr th:only-of-type {\n",
       "        vertical-align: middle;\n",
       "    }\n",
       "\n",
       "    .dataframe tbody tr th {\n",
       "        vertical-align: top;\n",
       "    }\n",
       "\n",
       "    .dataframe thead th {\n",
       "        text-align: right;\n",
       "    }\n",
       "</style>\n",
       "<table border=\"1\" class=\"dataframe\">\n",
       "  <thead>\n",
       "    <tr style=\"text-align: right;\">\n",
       "      <th></th>\n",
       "      <th>Name</th>\n",
       "      <th>No</th>\n",
       "      <th>Depth_min</th>\n",
       "      <th>Depth_max</th>\n",
       "      <th>T_min</th>\n",
       "      <th>T_max</th>\n",
       "      <th>P_min</th>\n",
       "      <th>P_max</th>\n",
       "      <th>CO2_min</th>\n",
       "      <th>CO2_max</th>\n",
       "      <th>...</th>\n",
       "      <th>Reservoir</th>\n",
       "      <th>Reservoir thickness (Gross)</th>\n",
       "      <th>Reservoir Thickness Net</th>\n",
       "      <th>Seal</th>\n",
       "      <th>Seal thickness</th>\n",
       "      <th>Stacked resevoirs</th>\n",
       "      <th>No. of stacked reservoirs</th>\n",
       "      <th>Literature</th>\n",
       "      <th>Well log &amp; pressure</th>\n",
       "      <th>Offshore</th>\n",
       "    </tr>\n",
       "  </thead>\n",
       "  <tbody>\n",
       "    <tr>\n",
       "      <th>0</th>\n",
       "      <td>Jackson Dome</td>\n",
       "      <td>1</td>\n",
       "      <td>4660.0</td>\n",
       "      <td>NaN</td>\n",
       "      <td>150.0</td>\n",
       "      <td>NaN</td>\n",
       "      <td>NaN</td>\n",
       "      <td>NaN</td>\n",
       "      <td>70.00</td>\n",
       "      <td>90.0</td>\n",
       "      <td>...</td>\n",
       "      <td>Carbonates; Sandstones</td>\n",
       "      <td>NaN</td>\n",
       "      <td>NaN</td>\n",
       "      <td>Mudstones</td>\n",
       "      <td>NaN</td>\n",
       "      <td>NaN</td>\n",
       "      <td>NaN</td>\n",
       "      <td>Stevens et al., 2001; Stuart&amp;Kosik, 1977; Rice...</td>\n",
       "      <td>NaN</td>\n",
       "      <td>No</td>\n",
       "    </tr>\n",
       "    <tr>\n",
       "      <th>1</th>\n",
       "      <td>El Trapial Field</td>\n",
       "      <td>10</td>\n",
       "      <td>1234.0</td>\n",
       "      <td>NaN</td>\n",
       "      <td>56.0</td>\n",
       "      <td>NaN</td>\n",
       "      <td>64.0</td>\n",
       "      <td>NaN</td>\n",
       "      <td>74.24</td>\n",
       "      <td>NaN</td>\n",
       "      <td>...</td>\n",
       "      <td>Sandstone</td>\n",
       "      <td>NaN</td>\n",
       "      <td>NaN</td>\n",
       "      <td>NaN</td>\n",
       "      <td>NaN</td>\n",
       "      <td>NaN</td>\n",
       "      <td>NaN</td>\n",
       "      <td>Blann et al., 1997; Crotti et al, 2007; Orchue...</td>\n",
       "      <td>NaN</td>\n",
       "      <td>No</td>\n",
       "    </tr>\n",
       "    <tr>\n",
       "      <th>2</th>\n",
       "      <td>Messokampos</td>\n",
       "      <td>13</td>\n",
       "      <td>NaN</td>\n",
       "      <td>500</td>\n",
       "      <td>25.0</td>\n",
       "      <td>NaN</td>\n",
       "      <td>0.5</td>\n",
       "      <td>NaN</td>\n",
       "      <td>99.50</td>\n",
       "      <td>NaN</td>\n",
       "      <td>...</td>\n",
       "      <td>Sands</td>\n",
       "      <td>260</td>\n",
       "      <td>NaN</td>\n",
       "      <td>Clay</td>\n",
       "      <td>10s</td>\n",
       "      <td>NaN</td>\n",
       "      <td>NaN</td>\n",
       "      <td>Gaus et al, 2004; TNO poster</td>\n",
       "      <td>NaN</td>\n",
       "      <td>No</td>\n",
       "    </tr>\n",
       "    <tr>\n",
       "      <th>3</th>\n",
       "      <td>Budafa Field</td>\n",
       "      <td>24</td>\n",
       "      <td>3200.0</td>\n",
       "      <td>3400</td>\n",
       "      <td>164.0</td>\n",
       "      <td>NaN</td>\n",
       "      <td>295.0</td>\n",
       "      <td>NaN</td>\n",
       "      <td>81.00</td>\n",
       "      <td>NaN</td>\n",
       "      <td>...</td>\n",
       "      <td>Sandstone</td>\n",
       "      <td>100</td>\n",
       "      <td>NaN</td>\n",
       "      <td>?</td>\n",
       "      <td>NaN</td>\n",
       "      <td>Yes</td>\n",
       "      <td>NaN</td>\n",
       "      <td>Doleschall et al., 1992, Gacho-Muro, 2005 Kira...</td>\n",
       "      <td>NaN</td>\n",
       "      <td>No</td>\n",
       "    </tr>\n",
       "    <tr>\n",
       "      <th>4</th>\n",
       "      <td>DF1-1 Field</td>\n",
       "      <td>41</td>\n",
       "      <td>1280.0</td>\n",
       "      <td>1450</td>\n",
       "      <td>70.0</td>\n",
       "      <td>NaN</td>\n",
       "      <td>NaN</td>\n",
       "      <td>NaN</td>\n",
       "      <td>51.00</td>\n",
       "      <td>71.0</td>\n",
       "      <td>...</td>\n",
       "      <td>Sandstones</td>\n",
       "      <td>NaN</td>\n",
       "      <td>NaN</td>\n",
       "      <td>Mudstones</td>\n",
       "      <td>NaN</td>\n",
       "      <td>Yes</td>\n",
       "      <td>3</td>\n",
       "      <td>Huang et al., 2003, 2004; Zhu et al, 2009, Zhe...</td>\n",
       "      <td>NaN</td>\n",
       "      <td>Yes</td>\n",
       "    </tr>\n",
       "  </tbody>\n",
       "</table>\n",
       "<p>5 rows × 29 columns</p>\n",
       "</div>"
      ],
      "text/plain": [
       "               Name  No  Depth_min Depth_max  T_min  T_max  P_min  P_max  \\\n",
       "0      Jackson Dome   1     4660.0       NaN  150.0    NaN     NaN   NaN   \n",
       "1  El Trapial Field  10     1234.0       NaN   56.0    NaN    64.0   NaN   \n",
       "2       Messokampos  13        NaN       500   25.0    NaN     0.5   NaN   \n",
       "3      Budafa Field  24     3200.0      3400  164.0    NaN   295.0   NaN   \n",
       "4       DF1-1 Field  41     1280.0      1450   70.0    NaN     NaN   NaN   \n",
       "\n",
       "   CO2_min  CO2_max  ...               Reservoir Reservoir thickness (Gross)  \\\n",
       "0    70.00     90.0  ...  Carbonates; Sandstones                         NaN   \n",
       "1    74.24      NaN  ...               Sandstone                         NaN   \n",
       "2    99.50      NaN  ...                  Sands                          260   \n",
       "3    81.00      NaN  ...               Sandstone                         100   \n",
       "4    51.00     71.0  ...              Sandstones                         NaN   \n",
       "\n",
       "  Reservoir Thickness Net       Seal Seal thickness Stacked resevoirs  \\\n",
       "0                     NaN  Mudstones            NaN               NaN   \n",
       "1                     NaN        NaN            NaN               NaN   \n",
       "2                     NaN       Clay            10s               NaN   \n",
       "3                     NaN          ?            NaN               Yes   \n",
       "4                     NaN  Mudstones            NaN               Yes   \n",
       "\n",
       "  No. of stacked reservoirs  \\\n",
       "0                       NaN   \n",
       "1                       NaN   \n",
       "2                       NaN   \n",
       "3                       NaN   \n",
       "4                         3   \n",
       "\n",
       "                                          Literature Well log & pressure   \\\n",
       "0  Stevens et al., 2001; Stuart&Kosik, 1977; Rice...                  NaN   \n",
       "1  Blann et al., 1997; Crotti et al, 2007; Orchue...                  NaN   \n",
       "2                       Gaus et al, 2004; TNO poster                  NaN   \n",
       "3  Doleschall et al., 1992, Gacho-Muro, 2005 Kira...                  NaN   \n",
       "4  Huang et al., 2003, 2004; Zhu et al, 2009, Zhe...                  NaN   \n",
       "\n",
       "  Offshore  \n",
       "0       No  \n",
       "1       No  \n",
       "2       No  \n",
       "3       No  \n",
       "4      Yes  \n",
       "\n",
       "[5 rows x 29 columns]"
      ]
     },
     "execution_count": 3,
     "metadata": {},
     "output_type": "execute_result"
    }
   ],
   "source": [
    "miocic.head()"
   ]
  },
  {
   "cell_type": "markdown",
   "id": "cd419c8a-7eb1-4a2b-b1f6-13ecf143a948",
   "metadata": {},
   "source": [
    "# Data Cleaning"
   ]
  },
  {
   "cell_type": "code",
   "execution_count": 4,
   "id": "e6c02a86-2367-4875-bf4b-9b51f5ff7185",
   "metadata": {},
   "outputs": [
    {
     "data": {
      "text/plain": [
       "Index(['Name', 'No', 'Depth_min', 'Depth_max', 'T_min', 'T_max', 'P_min ',\n",
       "       'P_max', 'CO2_min', 'CO2_max', 'Densities', 'Leakage',\n",
       "       'Leakage pathways', 'Basin Type', 'CO2 source', 'CO2 held for',\n",
       "       'Size (Tcf)', 'Trapping mechanism', 'Fault bound/sealed?', 'Reservoir',\n",
       "       'Reservoir thickness (Gross)', 'Reservoir Thickness Net', 'Seal',\n",
       "       'Seal thickness', 'Stacked resevoirs', 'No. of stacked reservoirs',\n",
       "       'Literature', 'Well log & pressure ', 'Offshore'],\n",
       "      dtype='object')"
      ]
     },
     "execution_count": 4,
     "metadata": {},
     "output_type": "execute_result"
    }
   ],
   "source": [
    "miocic.columns"
   ]
  },
  {
   "cell_type": "code",
   "execution_count": 5,
   "id": "fc27bfce-f4fe-41d8-94e5-eb12c89062c7",
   "metadata": {},
   "outputs": [
    {
     "data": {
      "text/html": [
       "<div>\n",
       "<style scoped>\n",
       "    .dataframe tbody tr th:only-of-type {\n",
       "        vertical-align: middle;\n",
       "    }\n",
       "\n",
       "    .dataframe tbody tr th {\n",
       "        vertical-align: top;\n",
       "    }\n",
       "\n",
       "    .dataframe thead th {\n",
       "        text-align: right;\n",
       "    }\n",
       "</style>\n",
       "<table border=\"1\" class=\"dataframe\">\n",
       "  <thead>\n",
       "    <tr style=\"text-align: right;\">\n",
       "      <th></th>\n",
       "      <th>No</th>\n",
       "      <th>Depth_min</th>\n",
       "      <th>T_min</th>\n",
       "      <th>T_max</th>\n",
       "      <th>P_min</th>\n",
       "      <th>CO2_min</th>\n",
       "      <th>CO2_max</th>\n",
       "      <th>Densities</th>\n",
       "      <th>Basin Type</th>\n",
       "      <th>Reservoir Thickness Net</th>\n",
       "    </tr>\n",
       "  </thead>\n",
       "  <tbody>\n",
       "    <tr>\n",
       "      <th>count</th>\n",
       "      <td>61.000000</td>\n",
       "      <td>60.000000</td>\n",
       "      <td>58.000000</td>\n",
       "      <td>18.000000</td>\n",
       "      <td>31.000000</td>\n",
       "      <td>52.000000</td>\n",
       "      <td>25.000000</td>\n",
       "      <td>61.000000</td>\n",
       "      <td>0.0</td>\n",
       "      <td>5.000000</td>\n",
       "    </tr>\n",
       "    <tr>\n",
       "      <th>mean</th>\n",
       "      <td>31.000000</td>\n",
       "      <td>2066.195000</td>\n",
       "      <td>85.177534</td>\n",
       "      <td>87.976667</td>\n",
       "      <td>225.774194</td>\n",
       "      <td>82.631731</td>\n",
       "      <td>83.228000</td>\n",
       "      <td>504.273770</td>\n",
       "      <td>NaN</td>\n",
       "      <td>26.800000</td>\n",
       "    </tr>\n",
       "    <tr>\n",
       "      <th>std</th>\n",
       "      <td>17.752934</td>\n",
       "      <td>1035.096305</td>\n",
       "      <td>36.940722</td>\n",
       "      <td>38.054862</td>\n",
       "      <td>162.733135</td>\n",
       "      <td>17.850647</td>\n",
       "      <td>17.489813</td>\n",
       "      <td>219.883799</td>\n",
       "      <td>NaN</td>\n",
       "      <td>14.446453</td>\n",
       "    </tr>\n",
       "    <tr>\n",
       "      <th>min</th>\n",
       "      <td>1.000000</td>\n",
       "      <td>375.000000</td>\n",
       "      <td>20.000000</td>\n",
       "      <td>32.920000</td>\n",
       "      <td>0.500000</td>\n",
       "      <td>20.000000</td>\n",
       "      <td>42.900000</td>\n",
       "      <td>0.900000</td>\n",
       "      <td>NaN</td>\n",
       "      <td>12.000000</td>\n",
       "    </tr>\n",
       "    <tr>\n",
       "      <th>25%</th>\n",
       "      <td>16.000000</td>\n",
       "      <td>1268.500000</td>\n",
       "      <td>56.375000</td>\n",
       "      <td>59.750000</td>\n",
       "      <td>77.900000</td>\n",
       "      <td>71.587500</td>\n",
       "      <td>77.000000</td>\n",
       "      <td>381.400000</td>\n",
       "      <td>NaN</td>\n",
       "      <td>21.000000</td>\n",
       "    </tr>\n",
       "    <tr>\n",
       "      <th>50%</th>\n",
       "      <td>31.000000</td>\n",
       "      <td>2012.000000</td>\n",
       "      <td>85.500000</td>\n",
       "      <td>87.142500</td>\n",
       "      <td>209.000000</td>\n",
       "      <td>90.000000</td>\n",
       "      <td>90.000000</td>\n",
       "      <td>549.000000</td>\n",
       "      <td>NaN</td>\n",
       "      <td>21.000000</td>\n",
       "    </tr>\n",
       "    <tr>\n",
       "      <th>75%</th>\n",
       "      <td>46.000000</td>\n",
       "      <td>2764.000000</td>\n",
       "      <td>100.300000</td>\n",
       "      <td>104.625000</td>\n",
       "      <td>292.500000</td>\n",
       "      <td>97.000000</td>\n",
       "      <td>97.050000</td>\n",
       "      <td>656.900000</td>\n",
       "      <td>NaN</td>\n",
       "      <td>30.000000</td>\n",
       "    </tr>\n",
       "    <tr>\n",
       "      <th>max</th>\n",
       "      <td>61.000000</td>\n",
       "      <td>4660.000000</td>\n",
       "      <td>200.000000</td>\n",
       "      <td>165.000000</td>\n",
       "      <td>620.000000</td>\n",
       "      <td>99.700000</td>\n",
       "      <td>99.500000</td>\n",
       "      <td>919.300000</td>\n",
       "      <td>NaN</td>\n",
       "      <td>50.000000</td>\n",
       "    </tr>\n",
       "  </tbody>\n",
       "</table>\n",
       "</div>"
      ],
      "text/plain": [
       "              No    Depth_min       T_min       T_max      P_min     CO2_min  \\\n",
       "count  61.000000    60.000000   58.000000   18.000000   31.000000  52.000000   \n",
       "mean   31.000000  2066.195000   85.177534   87.976667  225.774194  82.631731   \n",
       "std    17.752934  1035.096305   36.940722   38.054862  162.733135  17.850647   \n",
       "min     1.000000   375.000000   20.000000   32.920000    0.500000  20.000000   \n",
       "25%    16.000000  1268.500000   56.375000   59.750000   77.900000  71.587500   \n",
       "50%    31.000000  2012.000000   85.500000   87.142500  209.000000  90.000000   \n",
       "75%    46.000000  2764.000000  100.300000  104.625000  292.500000  97.000000   \n",
       "max    61.000000  4660.000000  200.000000  165.000000  620.000000  99.700000   \n",
       "\n",
       "         CO2_max   Densities  Basin Type  Reservoir Thickness Net  \n",
       "count  25.000000   61.000000         0.0                 5.000000  \n",
       "mean   83.228000  504.273770         NaN                26.800000  \n",
       "std    17.489813  219.883799         NaN                14.446453  \n",
       "min    42.900000    0.900000         NaN                12.000000  \n",
       "25%    77.000000  381.400000         NaN                21.000000  \n",
       "50%    90.000000  549.000000         NaN                21.000000  \n",
       "75%    97.050000  656.900000         NaN                30.000000  \n",
       "max    99.500000  919.300000         NaN                50.000000  "
      ]
     },
     "execution_count": 5,
     "metadata": {},
     "output_type": "execute_result"
    }
   ],
   "source": [
    "miocic.describe()"
   ]
  },
  {
   "cell_type": "code",
   "execution_count": 6,
   "id": "55b28e22-3e00-4d20-bbb9-ec1341e0176d",
   "metadata": {},
   "outputs": [],
   "source": [
    "miocic.set_index('Name', inplace=True)"
   ]
  },
  {
   "cell_type": "markdown",
   "id": "fffc80df-afcf-4981-813d-9ed73d146a60",
   "metadata": {},
   "source": [
    "## Drop Columns"
   ]
  },
  {
   "cell_type": "markdown",
   "id": "f0ca41b6-a23b-4b69-8ec5-991104f01296",
   "metadata": {},
   "source": [
    "- 'No' is used to number the basins and is therefore not relevant to the model.\n",
    "- 'CO2 min' describes the minimum amount of CO2 stored. Since this data isn't an intrinsic part of potential sites for carbon injection, it is not relevant\n",
    "- 'CO2 max' describes the minimum amount of CO2 stored. Since this data isn't an intrinsic part of potential sites for carbon injection, it is not relevant. \n",
    "- 'N2 max' describes amounts of other gases in the basin. A majority of basins do not have this information, so it is dropped.\n",
    "- 'H2S max' describes the amounts of other gases in the basin. A majority of basins do not have this information, so it is dropped.\n",
    "- 'C1 max' only has data for a few basins, so it is dropped.\n",
    "- 'Leakage pathways' has data only for insecure basins, so it is dropped.\n",
    "- 'Basin type' does not have any data, so it is dropped.\n",
    "- 'CO2 source' is not relevant to potential sites for carbon injection and is therefore not relevant to the model.\n",
    "- 'CO2 held for' is not relevant to potential sites for carbon injection and is therefore not relevant to the model.\n",
    "- 'Size (Tcf)' has limited data availability, so it is dropped.\n",
    "- 'Reservoir Thickness Net' has limited data availability so it is dropped.\n",
    "- 'No. of stacked reservoirs' has limited data availability, so it is dropped.\n",
    "- 'Literature' cites the article with the basin information, so it is not relevant to the model.\n",
    "- 'Well log & pressure' demonstrates if there is well log data information so it is not relevant to the model."
   ]
  },
  {
   "cell_type": "code",
   "execution_count": 7,
   "id": "a20448e2-2e27-4bf1-a387-c23879fbb522",
   "metadata": {},
   "outputs": [],
   "source": [
    "#drop columns\n",
    "miocic.drop(['No', 'CO2_min', 'CO2_max', 'Leakage pathways', \n",
    "            'Basin Type', 'CO2 source', 'CO2 held for', 'Size (Tcf)',\n",
    "            'No. of stacked reservoirs', 'Well log & pressure ', 'Literature', \n",
    "             'Reservoir Thickness Net'], axis=1, inplace=True)"
   ]
  },
  {
   "cell_type": "markdown",
   "id": "ecfa4162-3048-403c-ba65-e96febcfecc5",
   "metadata": {},
   "source": [
    "## Convert columns to necessary datatype"
   ]
  },
  {
   "cell_type": "code",
   "execution_count": 8,
   "id": "9dc00d13-23ee-4cbe-9d32-3f312aafdafb",
   "metadata": {},
   "outputs": [
    {
     "data": {
      "text/plain": [
       "Depth_min                      float64\n",
       "Depth_max                       object\n",
       "T_min                          float64\n",
       "T_max                          float64\n",
       "P_min                          float64\n",
       "P_max                           object\n",
       "Densities                      float64\n",
       "Leakage                         object\n",
       "Trapping mechanism              object\n",
       "Fault bound/sealed?             object\n",
       "Reservoir                       object\n",
       "Reservoir thickness (Gross)     object\n",
       "Seal                            object\n",
       "Seal thickness                  object\n",
       "Stacked resevoirs               object\n",
       "Offshore                        object\n",
       "dtype: object"
      ]
     },
     "execution_count": 8,
     "metadata": {},
     "output_type": "execute_result"
    }
   ],
   "source": [
    "miocic.dtypes"
   ]
  },
  {
   "cell_type": "code",
   "execution_count": 9,
   "id": "d2af7962-dc9c-4044-ac2e-7c43dc76883f",
   "metadata": {},
   "outputs": [],
   "source": [
    "def str_to_float(col):\n",
    "    miocic[col] = pd.to_numeric(\n",
    "        miocic[col]\n",
    "        .str.strip() # remove extra spaces\n",
    "        .replace(r'[^0-9.-]', '', regex=True), # turn \"NA\" into NaN\n",
    "        errors= 'coerce'\n",
    "    )\n",
    "for col in ['Depth_max', 'P_max', 'Reservoir thickness (Gross)', 'Seal thickness']:\n",
    "    str_to_float(col)"
   ]
  },
  {
   "cell_type": "markdown",
   "id": "050e6a5b-f780-4b2c-870f-45e7a421a537",
   "metadata": {},
   "source": [
    "## Agregate min/max columns to average"
   ]
  },
  {
   "cell_type": "markdown",
   "id": "ba339587-74c6-466c-ab47-b53940bf0a03",
   "metadata": {},
   "source": [
    "- Depth\n",
    "- Temperature\n",
    "- Pressure"
   ]
  },
  {
   "cell_type": "code",
   "execution_count": 10,
   "id": "531f63ce-89c5-42b5-a9c5-911e1aca3d7e",
   "metadata": {},
   "outputs": [],
   "source": [
    "#depth\n",
    "miocic['Depth'] = miocic[['Depth_min', 'Depth_max']].mean(axis=1, skipna=True)\n",
    "#temperature\n",
    "miocic['Temperature'] = miocic[['T_min', 'T_max']].mean(axis=1, skipna=True)\n",
    "#pressure\n",
    "miocic['Pressure'] = miocic[['P_min ', 'P_max']].mean(axis=1, skipna=True)\n",
    "#drop min/max columns\n",
    "miocic.drop(['Depth_min', 'Depth_max', 'T_min', 'T_max',\n",
    "            'P_min ', 'P_max'], axis=1, inplace=True)"
   ]
  },
  {
   "cell_type": "code",
   "execution_count": 11,
   "id": "4ee228ba-34c8-43f9-9299-46d77f4b4fa7",
   "metadata": {},
   "outputs": [
    {
     "data": {
      "text/plain": [
       "np.False_"
      ]
     },
     "execution_count": 11,
     "metadata": {},
     "output_type": "execute_result"
    }
   ],
   "source": [
    "miocic['Depth'].isna().any()"
   ]
  },
  {
   "cell_type": "code",
   "execution_count": 12,
   "id": "076374e5-a6f3-4b08-80b5-2b9cdb3c7543",
   "metadata": {},
   "outputs": [
    {
     "data": {
      "text/plain": [
       "3"
      ]
     },
     "execution_count": 12,
     "metadata": {},
     "output_type": "execute_result"
    }
   ],
   "source": [
    "sum(miocic['Temperature'].isna())"
   ]
  },
  {
   "cell_type": "code",
   "execution_count": 13,
   "id": "5233522e-0527-4de5-afc1-3254dd044879",
   "metadata": {},
   "outputs": [
    {
     "data": {
      "text/plain": [
       "30"
      ]
     },
     "execution_count": 13,
     "metadata": {},
     "output_type": "execute_result"
    }
   ],
   "source": [
    "sum(miocic['Pressure'].isna())"
   ]
  },
  {
   "cell_type": "markdown",
   "id": "80bc211f-3e4f-4ec5-95fd-6cc63db242c3",
   "metadata": {},
   "source": [
    "After aggregating min and max columns, we are still missing a lot of pressure data."
   ]
  },
  {
   "cell_type": "code",
   "execution_count": 14,
   "id": "8241e70e-0d19-40af-9c9b-b18b17fe366c",
   "metadata": {},
   "outputs": [
    {
     "data": {
      "text/html": [
       "<div>\n",
       "<style scoped>\n",
       "    .dataframe tbody tr th:only-of-type {\n",
       "        vertical-align: middle;\n",
       "    }\n",
       "\n",
       "    .dataframe tbody tr th {\n",
       "        vertical-align: top;\n",
       "    }\n",
       "\n",
       "    .dataframe thead th {\n",
       "        text-align: right;\n",
       "    }\n",
       "</style>\n",
       "<table border=\"1\" class=\"dataframe\">\n",
       "  <thead>\n",
       "    <tr style=\"text-align: right;\">\n",
       "      <th></th>\n",
       "      <th>Densities</th>\n",
       "      <th>Leakage</th>\n",
       "      <th>Trapping mechanism</th>\n",
       "      <th>Fault bound/sealed?</th>\n",
       "      <th>Reservoir</th>\n",
       "      <th>Reservoir thickness (Gross)</th>\n",
       "      <th>Seal</th>\n",
       "      <th>Seal thickness</th>\n",
       "      <th>Stacked resevoirs</th>\n",
       "      <th>Offshore</th>\n",
       "      <th>Depth</th>\n",
       "      <th>Temperature</th>\n",
       "      <th>Pressure</th>\n",
       "    </tr>\n",
       "    <tr>\n",
       "      <th>Name</th>\n",
       "      <th></th>\n",
       "      <th></th>\n",
       "      <th></th>\n",
       "      <th></th>\n",
       "      <th></th>\n",
       "      <th></th>\n",
       "      <th></th>\n",
       "      <th></th>\n",
       "      <th></th>\n",
       "      <th></th>\n",
       "      <th></th>\n",
       "      <th></th>\n",
       "      <th></th>\n",
       "    </tr>\n",
       "  </thead>\n",
       "  <tbody>\n",
       "    <tr>\n",
       "      <th>Jackson Dome</th>\n",
       "      <td>654.6</td>\n",
       "      <td>No</td>\n",
       "      <td>Structural and salt structures</td>\n",
       "      <td>NaN</td>\n",
       "      <td>Carbonates; Sandstones</td>\n",
       "      <td>NaN</td>\n",
       "      <td>Mudstones</td>\n",
       "      <td>NaN</td>\n",
       "      <td>NaN</td>\n",
       "      <td>No</td>\n",
       "      <td>4660.0</td>\n",
       "      <td>150.0</td>\n",
       "      <td>NaN</td>\n",
       "    </tr>\n",
       "    <tr>\n",
       "      <th>El Trapial Field</th>\n",
       "      <td>141.0</td>\n",
       "      <td>No</td>\n",
       "      <td>Dome, Structural</td>\n",
       "      <td>NaN</td>\n",
       "      <td>Sandstone</td>\n",
       "      <td>NaN</td>\n",
       "      <td>NaN</td>\n",
       "      <td>NaN</td>\n",
       "      <td>NaN</td>\n",
       "      <td>No</td>\n",
       "      <td>1234.0</td>\n",
       "      <td>56.0</td>\n",
       "      <td>64.0</td>\n",
       "    </tr>\n",
       "    <tr>\n",
       "      <th>Messokampos</th>\n",
       "      <td>0.9</td>\n",
       "      <td>Yes</td>\n",
       "      <td>Stratigraphic</td>\n",
       "      <td>NaN</td>\n",
       "      <td>Sands</td>\n",
       "      <td>260.0</td>\n",
       "      <td>Clay</td>\n",
       "      <td>10.0</td>\n",
       "      <td>NaN</td>\n",
       "      <td>No</td>\n",
       "      <td>500.0</td>\n",
       "      <td>25.0</td>\n",
       "      <td>0.5</td>\n",
       "    </tr>\n",
       "    <tr>\n",
       "      <th>Budafa Field</th>\n",
       "      <td>451.6</td>\n",
       "      <td>No</td>\n",
       "      <td>NaN</td>\n",
       "      <td>NaN</td>\n",
       "      <td>Sandstone</td>\n",
       "      <td>100.0</td>\n",
       "      <td>?</td>\n",
       "      <td>NaN</td>\n",
       "      <td>Yes</td>\n",
       "      <td>No</td>\n",
       "      <td>3300.0</td>\n",
       "      <td>164.0</td>\n",
       "      <td>295.0</td>\n",
       "    </tr>\n",
       "    <tr>\n",
       "      <th>DF1-1 Field</th>\n",
       "      <td>378.3</td>\n",
       "      <td>No</td>\n",
       "      <td>Mudstone Diapir</td>\n",
       "      <td>NaN</td>\n",
       "      <td>Sandstones</td>\n",
       "      <td>NaN</td>\n",
       "      <td>Mudstones</td>\n",
       "      <td>NaN</td>\n",
       "      <td>Yes</td>\n",
       "      <td>Yes</td>\n",
       "      <td>1365.0</td>\n",
       "      <td>70.0</td>\n",
       "      <td>NaN</td>\n",
       "    </tr>\n",
       "  </tbody>\n",
       "</table>\n",
       "</div>"
      ],
      "text/plain": [
       "                  Densities Leakage              Trapping mechanism  \\\n",
       "Name                                                                  \n",
       "Jackson Dome          654.6      No  Structural and salt structures   \n",
       "El Trapial Field      141.0      No                Dome, Structural   \n",
       "Messokampos             0.9     Yes                   Stratigraphic   \n",
       "Budafa Field          451.6      No                             NaN   \n",
       "DF1-1 Field           378.3      No                 Mudstone Diapir   \n",
       "\n",
       "                 Fault bound/sealed?               Reservoir  \\\n",
       "Name                                                           \n",
       "Jackson Dome                     NaN  Carbonates; Sandstones   \n",
       "El Trapial Field                 NaN               Sandstone   \n",
       "Messokampos                      NaN                  Sands    \n",
       "Budafa Field                     NaN               Sandstone   \n",
       "DF1-1 Field                      NaN              Sandstones   \n",
       "\n",
       "                  Reservoir thickness (Gross)       Seal  Seal thickness  \\\n",
       "Name                                                                       \n",
       "Jackson Dome                              NaN  Mudstones             NaN   \n",
       "El Trapial Field                          NaN        NaN             NaN   \n",
       "Messokampos                             260.0       Clay            10.0   \n",
       "Budafa Field                            100.0          ?             NaN   \n",
       "DF1-1 Field                               NaN  Mudstones             NaN   \n",
       "\n",
       "                 Stacked resevoirs Offshore   Depth  Temperature  Pressure  \n",
       "Name                                                                        \n",
       "Jackson Dome                   NaN       No  4660.0        150.0       NaN  \n",
       "El Trapial Field               NaN       No  1234.0         56.0      64.0  \n",
       "Messokampos                    NaN       No   500.0         25.0       0.5  \n",
       "Budafa Field                   Yes       No  3300.0        164.0     295.0  \n",
       "DF1-1 Field                    Yes      Yes  1365.0         70.0       NaN  "
      ]
     },
     "execution_count": 14,
     "metadata": {},
     "output_type": "execute_result"
    }
   ],
   "source": [
    "miocic.head()"
   ]
  },
  {
   "cell_type": "markdown",
   "id": "cafe3068-a704-4ac8-ba03-d363d7c52376",
   "metadata": {},
   "source": [
    "## Deal with categorical variables"
   ]
  },
  {
   "cell_type": "markdown",
   "id": "80532475-610f-4abb-b062-199ce7bca873",
   "metadata": {},
   "source": [
    "### Leakage"
   ]
  },
  {
   "cell_type": "code",
   "execution_count": 15,
   "id": "f344548c-7b01-415b-9e5f-73eb73626380",
   "metadata": {},
   "outputs": [],
   "source": [
    "#Leakage has 3 options: Yes, No, and Inconclusive. \n",
    "#I will deal with the inconclusive sites later, but for now I want to use integers to represent this data\n",
    "miocic['Leakage']= miocic['Leakage'].str.strip().map(\n",
    "    {'No': 0, 'Yes': 1, 'Inconclusive': 2}).astype('int')"
   ]
  },
  {
   "cell_type": "markdown",
   "id": "a01f4c6c-9b7c-4112-a5db-c958d71d4f72",
   "metadata": {},
   "source": [
    "### Trapping mechanism"
   ]
  },
  {
   "cell_type": "code",
   "execution_count": 16,
   "id": "863f411b-84b5-4b2d-b018-93f5c3987e49",
   "metadata": {},
   "outputs": [
    {
     "data": {
      "text/plain": [
       "Trapping mechanism\n",
       "Structural (fault)                             4\n",
       "structural, stratigraphic                      4\n",
       "Mudstone Diapir                                3\n",
       "Stratigraphic                                  3\n",
       "Antiform                                       3\n",
       "Anticline                                      3\n",
       "Diapir, fault                                  2\n",
       "Structural                                     2\n",
       "Structural and salt structures                 1\n",
       "Dome, Structural                               1\n",
       "Horst (structural)                             1\n",
       "Dome Anticline                                 1\n",
       "Structural stratigraphic                       1\n",
       "Structural (4 way closure)                     1\n",
       "Dome                                           1\n",
       "Anticline, faulted                             1\n",
       "Anticlinal fold with thrust fault              1\n",
       "anticline, faulted                             1\n",
       "Structural/stratigraphic (intrusion bound)     1\n",
       "Stratigraphic                                  1\n",
       "Stratigraphic, Structural                      1\n",
       "Anticline, Graben                              1\n",
       "Structural                                     1\n",
       "Fault bound                                    1\n",
       "Structural (Horsts)                            1\n",
       "Structural (fault bound)                       1\n",
       "Structural high                                1\n",
       "Structural/straticgraphic                      1\n",
       "Fault bound stratigraphic                      1\n",
       "Anticline with fault                           1\n",
       "Structural & lithological                      1\n",
       "Structural lithological                        1\n",
       "Faulted Anticline                              1\n",
       "Fault closed anticline                         1\n",
       "Fault bound                                    1\n",
       "Fault bound anticline                          1\n",
       "Name: count, dtype: int64"
      ]
     },
     "execution_count": 16,
     "metadata": {},
     "output_type": "execute_result"
    }
   ],
   "source": [
    "miocic['Trapping mechanism'].value_counts()"
   ]
  },
  {
   "cell_type": "code",
   "execution_count": 17,
   "id": "4d1b0af0-9dc3-4056-82dd-bc1b62fd744c",
   "metadata": {},
   "outputs": [
    {
     "data": {
      "text/plain": [
       "Name\n",
       "Jackson Dome                [Structural]\n",
       "El Trapial Field            [Structural]\n",
       "Messokampos                           []\n",
       "Budafa Field                         NaN\n",
       "DF1-1 Field                           []\n",
       "                                ...     \n",
       "Turaco, Albertine Graben             NaN\n",
       "DF29-1                                []\n",
       "L22-1                                 []\n",
       "Kalangadoo 1                         NaN\n",
       "W961                                 NaN\n",
       "Name: Trapping mechanism, Length: 61, dtype: object"
      ]
     },
     "execution_count": 17,
     "metadata": {},
     "output_type": "execute_result"
    }
   ],
   "source": [
    "miocic['Trapping mechanism'].str.findall(r'[Ss]tructural')"
   ]
  },
  {
   "cell_type": "code",
   "execution_count": 18,
   "id": "ced19b72-42a5-44fe-b980-3dbe750b4f11",
   "metadata": {},
   "outputs": [
    {
     "data": {
      "text/plain": [
       "Trapping mechanism\n",
       "False    35\n",
       "True     17\n",
       "Name: count, dtype: int64"
      ]
     },
     "execution_count": 18,
     "metadata": {},
     "output_type": "execute_result"
    }
   ],
   "source": [
    "miocic['Trapping mechanism'].str.contains(r'[Ff]ault').value_counts()"
   ]
  },
  {
   "cell_type": "markdown",
   "id": "e7d90fdc-dc21-4c4e-b7dd-3dd61eb73aef",
   "metadata": {},
   "source": [
    "I will not be employing traditional one-hot encoding for 'Trapping Mechanism'. Instead, I have identified key trapping mechanisms and I will use regular expressions to identify if a basin has those mechanisms. This deals with basins having more than one trap identified. \n",
    "\n",
    "<u>Trap mechanisms</u>  \n",
    "- Structural  \n",
    "- Fault  \n",
    "- Stratigraphic  \n",
    "- Anticline (including antiform)  \n",
    "- Horst  \n",
    "- Lithological  \n",
    "- Dome  \n",
    "- Bound  \n",
    "- Diapir (including salt structures)"
   ]
  },
  {
   "cell_type": "code",
   "execution_count": 19,
   "id": "58669b0b-817c-4828-ae67-4c3e13853a1a",
   "metadata": {},
   "outputs": [],
   "source": [
    "#structural\n",
    "miocic['Trapmech_structural'] = miocic['Trapping mechanism'].str.contains(\n",
    "    r'[Ss]tructural|Dome$') #24 basins in this category\n",
    "#fault\n",
    "miocic['Trapmech_fault'] = miocic['Trapping mechanism'].str.contains(\n",
    "    r'[Ff]ault') #17 basins in this category\n",
    "#stratigraphic\n",
    "miocic['Trapmech_stratigraphic'] = miocic['Trapping mechanism'].str.contains(\n",
    "    r'[Ss]tratigraphic') #12 basins in this category\n",
    "#anticline (including antiform)\n",
    "miocic['Trapmech_anticline'] = miocic['Trapping mechanism'].str.contains(\n",
    "    r'[Aa]nticline|[Aa]ntiform') #14 basins in this category\n",
    "#horst\n",
    "miocic['Trapmech_horst'] =miocic['Trapping mechanism'].str.contains(\n",
    "    r'[Hh]orst') # 2 basins in this category\n",
    "#lithological\n",
    "miocic['Trapmech_lithological'] = miocic['Trapping mechanism'].str.contains(\n",
    "    r'[Ll]ithological', na=False) # 2 basins in this category\n",
    "#dome\n",
    "miocic['Trapmech_dome'] = miocic['Trapping mechanism'].str.contains(\n",
    "    r'[Dd]ome') # 3 basins in this category\n",
    "#bound\n",
    "miocic['Trapmech_bound'] = miocic['Trapping mechanism'].str.contains(\n",
    "    r'[Bb]ound') #6 basisns in this category\n",
    "#diapir (including salt structures)\n",
    "miocic['Trapmech_diapir'] = miocic['Trapping mechanism'].str.contains(\n",
    "    r'[Dd]iapir|[Ss]alt') #6 basins in this category"
   ]
  },
  {
   "cell_type": "code",
   "execution_count": 20,
   "id": "8ee7fe66-af02-46bf-87fe-9a32e31fce9b",
   "metadata": {},
   "outputs": [],
   "source": [
    "#drop 'Trapping mechanism' column\n",
    "#miocic.drop(['Trapping mechanism'], axis=1, inplace=True)"
   ]
  },
  {
   "cell_type": "markdown",
   "id": "40059e1f-ef19-42eb-9405-be30e95af361",
   "metadata": {},
   "source": [
    "### Fault bound/sealed"
   ]
  },
  {
   "cell_type": "markdown",
   "id": "b2e9bf40-572c-43fd-b9e7-affdd3b858d4",
   "metadata": {},
   "source": [
    "For this categorical variable, the data can either be 'yes', 'no', or 'na', which is different from missing a value. I will one-hot encode this variable but I also have to differentiate between 'na' and missing values, since the computer does not differentiate this."
   ]
  },
  {
   "cell_type": "code",
   "execution_count": 21,
   "id": "0ef7dfba-4dc8-4c82-bbc4-52426ee83d4a",
   "metadata": {},
   "outputs": [
    {
     "data": {
      "text/plain": [
       "Fault bound/sealed?\n",
       "Yes    30\n",
       "No     14\n",
       "yes     4\n",
       "no      3\n",
       "Name: count, dtype: int64"
      ]
     },
     "execution_count": 21,
     "metadata": {},
     "output_type": "execute_result"
    }
   ],
   "source": [
    "miocic['Fault bound/sealed?'].value_counts()"
   ]
  },
  {
   "cell_type": "markdown",
   "id": "0359b0f1-3159-48d2-a3cc-7d780c192341",
   "metadata": {},
   "source": [
    "Currently, this variable is stored as strings and NaN values. I need to standardize the capitalization  before one-hot encoding."
   ]
  },
  {
   "cell_type": "code",
   "execution_count": 22,
   "id": "80482e73-b20f-4d80-826a-1d62c978b23c",
   "metadata": {},
   "outputs": [
    {
     "data": {
      "text/plain": [
       "Fault bound/sealed?\n",
       "yes    34\n",
       "no     17\n",
       "Name: count, dtype: int64"
      ]
     },
     "execution_count": 22,
     "metadata": {},
     "output_type": "execute_result"
    }
   ],
   "source": [
    "miocic['Fault bound/sealed?'] = miocic['Fault bound/sealed?'].str.lower()\n",
    "miocic['Fault bound/sealed?'].value_counts()"
   ]
  },
  {
   "cell_type": "markdown",
   "id": "aa2920f7-942f-4529-9fb7-2dad9bab3efe",
   "metadata": {},
   "source": [
    "I am using OneHotEncoder from sklearn to one-hot encode this categorical variable."
   ]
  },
  {
   "cell_type": "code",
   "execution_count": 23,
   "id": "fcb7c041-ea1e-4b64-bb5c-fb7d23dde58d",
   "metadata": {},
   "outputs": [],
   "source": [
    "fault = OneHotEncoder()\n",
    "fault.fit(miocic[['Fault bound/sealed?']])\n",
    "fault_columns = pd.DataFrame(fault.transform(miocic[['Fault bound/sealed?']]).toarray(), \n",
    "                                  columns=fault.get_feature_names_out(), index=miocic.index)\n",
    "fault_columns.rename(columns={'Fault bound/sealed?_no': 'Faultbound_no',\n",
    "                              'Fault bound/sealed?_yes': 'Faultbound_yes',\n",
    "                              'Fault bound/sealed?_nan': 'Faultbound_nan'}, inplace=True)\n",
    "#the last two basins have missing data for this variable, so I am manually changing this\n",
    "fault_columns.iloc[59:, :] = np.nan\n",
    "#remove a column to maintain linear independence\n",
    "fault_columns.drop('Faultbound_no', axis=1, inplace=True)"
   ]
  },
  {
   "cell_type": "markdown",
   "id": "ac8e50a4-c756-41fe-a881-cf34a65d94f9",
   "metadata": {},
   "source": [
    "Now that I have created fault_columns, a dataframe of the one-hot encoded feature, I merge this dataframe with the miocic dataframe."
   ]
  },
  {
   "cell_type": "code",
   "execution_count": 24,
   "id": "a840a9ec-12f2-457f-bac1-6be730c5b26e",
   "metadata": {},
   "outputs": [],
   "source": [
    "#combine one hot encoded df to miocic\n",
    "miocic= pd.merge(miocic, fault_columns, left_on='Name', right_on='Name')"
   ]
  },
  {
   "cell_type": "markdown",
   "id": "b5faa336-5eed-4ddf-9261-625e674388af",
   "metadata": {},
   "source": [
    "### Reservoir"
   ]
  },
  {
   "cell_type": "code",
   "execution_count": 25,
   "id": "a7e86d3a-223f-4824-9be3-2610a0d20178",
   "metadata": {},
   "outputs": [
    {
     "data": {
      "text/plain": [
       "(61, 24)"
      ]
     },
     "execution_count": 25,
     "metadata": {},
     "output_type": "execute_result"
    }
   ],
   "source": [
    "miocic.shape"
   ]
  },
  {
   "cell_type": "code",
   "execution_count": 26,
   "id": "ce3a0a6e-ca36-45ac-93a6-a7725c1ca51d",
   "metadata": {},
   "outputs": [
    {
     "data": {
      "text/plain": [
       "28"
      ]
     },
     "execution_count": 26,
     "metadata": {},
     "output_type": "execute_result"
    }
   ],
   "source": [
    "len(miocic['Reservoir'].value_counts().index)\n",
    "#aviso: Basement, carbonate, dolomite, limestone, sandstone, mixed, sands, volcanics"
   ]
  },
  {
   "cell_type": "code",
   "execution_count": 27,
   "id": "012cd048-8671-4a2f-885e-0e2c674f8a24",
   "metadata": {},
   "outputs": [
    {
     "data": {
      "text/plain": [
       "Reservoir\n",
       "Sandstone                                      17\n",
       "Sandstones                                      7\n",
       "Carbonates                                      5\n",
       "Carbonate                                       4\n",
       "Dolomite                                        2\n",
       "Carbonates; Sandstones                          2\n",
       "Sandstone, siltstone                            2\n",
       "Limestone                                       2\n",
       "Sandstone, Siltstone, Limestone & Anhydrite     1\n",
       "Sandstone & Carbonates                          1\n",
       "Sands                                           1\n",
       "Limestone; Dolomite                             1\n",
       "Volcanics, conglomerates                        1\n",
       "Dolomite, Limestone                             1\n",
       "Siltstones; Carbonates                          1\n",
       "Sandstones                                      1\n",
       "Sandstones; Mudstones                           1\n",
       "Sandstone & Limestone                           1\n",
       "Limestones                                      1\n",
       "Sandstone, Limestone                            1\n",
       "Dolomites, Evaporites                           1\n",
       "Conglomerates, Sandstones                       1\n",
       "Biolithite, dolomite                            1\n",
       "Dolomitic limestone, sandstone                  1\n",
       "Limestone                                       1\n",
       "Siltstone, sandstone                            1\n",
       "Volcanics                                       1\n",
       "Basement                                        1\n",
       "Name: count, dtype: int64"
      ]
     },
     "execution_count": 27,
     "metadata": {},
     "output_type": "execute_result"
    }
   ],
   "source": [
    "miocic['Reservoir'].value_counts()"
   ]
  },
  {
   "cell_type": "code",
   "execution_count": 28,
   "id": "74e09278-7283-41ef-b2fd-66d16b0aa224",
   "metadata": {},
   "outputs": [
    {
     "data": {
      "text/plain": [
       "Reservoir\n",
       "True     35\n",
       "False    26\n",
       "Name: count, dtype: int64"
      ]
     },
     "execution_count": 28,
     "metadata": {},
     "output_type": "execute_result"
    }
   ],
   "source": [
    "#aviso: Basement, carbonate, dolomite, limestone, sandstone, mixed, sands, volcanics\n",
    "#my categories: other (basement, sands), sandstones/conglomerates, siltstones/mudstones, carbonites (ites)\n",
    "miocic['Reservoir'].str.contains(r'Sandstones?|[Mm]udstones?').value_counts()\n"
   ]
  },
  {
   "cell_type": "code",
   "execution_count": 29,
   "id": "7cfd0040-f439-4b8b-b3f2-83c4139b5f7d",
   "metadata": {},
   "outputs": [
    {
     "data": {
      "text/plain": [
       "Reservoir\n",
       "False    51\n",
       "True     10\n",
       "Name: count, dtype: int64"
      ]
     },
     "execution_count": 29,
     "metadata": {},
     "output_type": "execute_result"
    }
   ],
   "source": [
    "miocic['Reservoir'].str.contains(r'[Ll]imestone').value_counts()"
   ]
  },
  {
   "cell_type": "code",
   "execution_count": 30,
   "id": "28ca8a95-2cf5-4145-ab9b-703ca7b7736e",
   "metadata": {},
   "outputs": [
    {
     "data": {
      "text/plain": [
       "Reservoir\n",
       "[]              55\n",
       "[Siltstone]      2\n",
       "[siltstone]      2\n",
       "[Siltstones]     1\n",
       "[Mudstones]      1\n",
       "Name: count, dtype: int64"
      ]
     },
     "execution_count": 30,
     "metadata": {},
     "output_type": "execute_result"
    }
   ],
   "source": [
    "miocic['Reservoir'].str.findall(r'[Ss]iltstones?|[Mm]udstones?').value_counts()\n"
   ]
  },
  {
   "cell_type": "markdown",
   "id": "2f375a78-a886-4fb3-9a71-785859fedf99",
   "metadata": {},
   "source": [
    "Instead of traditional one-hot encoding, which would not be successful due to the uniqueness/fluidity of categories, I will employ heirarchical categorization, essentially creating a high level categorization and a detailed categorizatinon. For the high level categorization, I will sort all the basin reservoir types into 4 options:\n",
    "\n",
    "<u>Level 1 Reservoir Type</u> \n",
    "- Sandstones/clastics\n",
    "    - conglomerates\n",
    "    - siltstones\n",
    "    - mudstones\n",
    "    - sands\n",
    "- Carbonates\n",
    "    - limestone\n",
    "    - dolomites\n",
    "    - biolithite\n",
    "- Mixed Lithology\n",
    "- Other\n",
    "    - Volcanics\n",
    "    - Basement\n",
    "\n",
    "Then, I will one-hot encode this high level reservoir type feature.\n",
    "\n",
    "However, to not loose information, I will then be doing a second-level categorization using regular expressions to feature engineer if certain key categories are listed. This way, I can highlight subcategories and the 'Mixed' basisns can be labeled as multiple categories. Doing this, a single basin can belong to multiple categories.\n",
    "\n",
    "<u>Level 2 Reservoir Type</u>  \n",
    "- Sandstones (includes conglomerates)\n",
    "- Sands\n",
    "- Siltstones/mudstones\n",
    "- Carbonates (includes biolithite)\n",
    "- Dolomites\n",
    "- Limestones\n",
    "- Anhydrites/evaporites\n",
    "- Volcanics\n",
    "- Basement"
   ]
  },
  {
   "cell_type": "code",
   "execution_count": 31,
   "id": "3a29204b-1b1c-4660-879e-cf708cd3a05b",
   "metadata": {},
   "outputs": [],
   "source": [
    "miocic['L1reservoir'] = miocic['Reservoir'].str.strip().map({\n",
    "    # Sandstones / clastics\n",
    "    'Sandstone': 'Sandstone',\n",
    "    'Sandstones': 'Sandstone',\n",
    "    'Sandstone, siltstone': 'Sandstone',\n",
    "    'Sands': 'Sandstone',\n",
    "    'Sandstones; Mudstones': 'Sandstone',\n",
    "    'Siltstone, sandstone': 'Sandstone',\n",
    "    'Conglomerates, Sandstones': 'Sandstone',\n",
    "\n",
    "    # Carbonates\n",
    "    'Carbonates': 'Carbonate',\n",
    "    'Carbonate': 'Carbonate',\n",
    "    'Dolomite': 'Carbonate',\n",
    "    'Limestone': 'Carbonate',\n",
    "    'Limestones': 'Carbonate',\n",
    "    'Limestone; Dolomite': 'Carbonate',\n",
    "    'Dolomite, Limestone': 'Carbonate',\n",
    "    'Dolomites, Evaporites': 'Carbonate',\n",
    "    'Biolithite, dolomite': 'Carbonate',\n",
    "\n",
    "    # Mixed lithologies\n",
    "    'Carbonates; Sandstones': 'Mixed_lith',\n",
    "    'Sandstone, Siltstone, Limestone & Anhydrite': 'Mixed_lith',\n",
    "    'Sandstone & Carbonates': 'Mixed_lith',\n",
    "    'Sandstone & Limestone': 'Mixed_lith',\n",
    "    'Sandstone, Limestone': 'Mixed_lith',\n",
    "    'Dolomitic limestone, sandstone': 'Mixed_lith',\n",
    "    'Siltstones; Carbonates': 'Mixed_lith',\n",
    "\n",
    "    # Other / rare\n",
    "    'Volcanics': 'Other',\n",
    "    'Volcanics, conglomerates': 'Other',\n",
    "    'Basement': 'Other'\n",
    "})\n"
   ]
  },
  {
   "cell_type": "code",
   "execution_count": 32,
   "id": "01c4aa51-6e55-493c-a06d-e87aca4b278a",
   "metadata": {},
   "outputs": [
    {
     "data": {
      "text/plain": [
       "L1reservoir    False\n",
       "dtype: bool"
      ]
     },
     "execution_count": 32,
     "metadata": {},
     "output_type": "execute_result"
    }
   ],
   "source": [
    "miocic[['L1reservoir']].isna().any() #checking that all were re-categorized"
   ]
  },
  {
   "cell_type": "code",
   "execution_count": 33,
   "id": "d358f794-20da-41db-ba36-c3ffefc3c82c",
   "metadata": {},
   "outputs": [
    {
     "data": {
      "text/html": [
       "<div>\n",
       "<style scoped>\n",
       "    .dataframe tbody tr th:only-of-type {\n",
       "        vertical-align: middle;\n",
       "    }\n",
       "\n",
       "    .dataframe tbody tr th {\n",
       "        vertical-align: top;\n",
       "    }\n",
       "\n",
       "    .dataframe thead th {\n",
       "        text-align: right;\n",
       "    }\n",
       "</style>\n",
       "<table border=\"1\" class=\"dataframe\">\n",
       "  <thead>\n",
       "    <tr style=\"text-align: right;\">\n",
       "      <th></th>\n",
       "      <th>Densities</th>\n",
       "      <th>Leakage</th>\n",
       "      <th>Trapping mechanism</th>\n",
       "      <th>Fault bound/sealed?</th>\n",
       "      <th>Reservoir</th>\n",
       "      <th>Reservoir thickness (Gross)</th>\n",
       "      <th>Seal</th>\n",
       "      <th>Seal thickness</th>\n",
       "      <th>Stacked resevoirs</th>\n",
       "      <th>Offshore</th>\n",
       "      <th>...</th>\n",
       "      <th>Trapmech_lithological</th>\n",
       "      <th>Trapmech_dome</th>\n",
       "      <th>Trapmech_bound</th>\n",
       "      <th>Trapmech_diapir</th>\n",
       "      <th>Faultbound_yes</th>\n",
       "      <th>Faultbound_nan</th>\n",
       "      <th>L1reservoir</th>\n",
       "      <th>L1reservoir_Carbonate</th>\n",
       "      <th>L1reservoir_Mixed_lith</th>\n",
       "      <th>L1reservoir_Sandstone</th>\n",
       "    </tr>\n",
       "    <tr>\n",
       "      <th>Name</th>\n",
       "      <th></th>\n",
       "      <th></th>\n",
       "      <th></th>\n",
       "      <th></th>\n",
       "      <th></th>\n",
       "      <th></th>\n",
       "      <th></th>\n",
       "      <th></th>\n",
       "      <th></th>\n",
       "      <th></th>\n",
       "      <th></th>\n",
       "      <th></th>\n",
       "      <th></th>\n",
       "      <th></th>\n",
       "      <th></th>\n",
       "      <th></th>\n",
       "      <th></th>\n",
       "      <th></th>\n",
       "      <th></th>\n",
       "      <th></th>\n",
       "      <th></th>\n",
       "    </tr>\n",
       "  </thead>\n",
       "  <tbody>\n",
       "    <tr>\n",
       "      <th>Jackson Dome</th>\n",
       "      <td>654.6</td>\n",
       "      <td>0</td>\n",
       "      <td>Structural and salt structures</td>\n",
       "      <td>NaN</td>\n",
       "      <td>Carbonates; Sandstones</td>\n",
       "      <td>NaN</td>\n",
       "      <td>Mudstones</td>\n",
       "      <td>NaN</td>\n",
       "      <td>NaN</td>\n",
       "      <td>No</td>\n",
       "      <td>...</td>\n",
       "      <td>False</td>\n",
       "      <td>False</td>\n",
       "      <td>False</td>\n",
       "      <td>True</td>\n",
       "      <td>0.0</td>\n",
       "      <td>1.0</td>\n",
       "      <td>Mixed_lith</td>\n",
       "      <td>0.0</td>\n",
       "      <td>1.0</td>\n",
       "      <td>0.0</td>\n",
       "    </tr>\n",
       "    <tr>\n",
       "      <th>El Trapial Field</th>\n",
       "      <td>141.0</td>\n",
       "      <td>0</td>\n",
       "      <td>Dome, Structural</td>\n",
       "      <td>NaN</td>\n",
       "      <td>Sandstone</td>\n",
       "      <td>NaN</td>\n",
       "      <td>NaN</td>\n",
       "      <td>NaN</td>\n",
       "      <td>NaN</td>\n",
       "      <td>No</td>\n",
       "      <td>...</td>\n",
       "      <td>False</td>\n",
       "      <td>True</td>\n",
       "      <td>False</td>\n",
       "      <td>False</td>\n",
       "      <td>0.0</td>\n",
       "      <td>1.0</td>\n",
       "      <td>Sandstone</td>\n",
       "      <td>0.0</td>\n",
       "      <td>0.0</td>\n",
       "      <td>1.0</td>\n",
       "    </tr>\n",
       "    <tr>\n",
       "      <th>Messokampos</th>\n",
       "      <td>0.9</td>\n",
       "      <td>1</td>\n",
       "      <td>Stratigraphic</td>\n",
       "      <td>NaN</td>\n",
       "      <td>Sands</td>\n",
       "      <td>260.0</td>\n",
       "      <td>Clay</td>\n",
       "      <td>10.0</td>\n",
       "      <td>NaN</td>\n",
       "      <td>No</td>\n",
       "      <td>...</td>\n",
       "      <td>False</td>\n",
       "      <td>False</td>\n",
       "      <td>False</td>\n",
       "      <td>False</td>\n",
       "      <td>0.0</td>\n",
       "      <td>1.0</td>\n",
       "      <td>Sandstone</td>\n",
       "      <td>0.0</td>\n",
       "      <td>0.0</td>\n",
       "      <td>1.0</td>\n",
       "    </tr>\n",
       "    <tr>\n",
       "      <th>Budafa Field</th>\n",
       "      <td>451.6</td>\n",
       "      <td>0</td>\n",
       "      <td>NaN</td>\n",
       "      <td>NaN</td>\n",
       "      <td>Sandstone</td>\n",
       "      <td>100.0</td>\n",
       "      <td>?</td>\n",
       "      <td>NaN</td>\n",
       "      <td>Yes</td>\n",
       "      <td>No</td>\n",
       "      <td>...</td>\n",
       "      <td>False</td>\n",
       "      <td>NaN</td>\n",
       "      <td>NaN</td>\n",
       "      <td>NaN</td>\n",
       "      <td>0.0</td>\n",
       "      <td>1.0</td>\n",
       "      <td>Sandstone</td>\n",
       "      <td>0.0</td>\n",
       "      <td>0.0</td>\n",
       "      <td>1.0</td>\n",
       "    </tr>\n",
       "    <tr>\n",
       "      <th>DF1-1 Field</th>\n",
       "      <td>378.3</td>\n",
       "      <td>0</td>\n",
       "      <td>Mudstone Diapir</td>\n",
       "      <td>NaN</td>\n",
       "      <td>Sandstones</td>\n",
       "      <td>NaN</td>\n",
       "      <td>Mudstones</td>\n",
       "      <td>NaN</td>\n",
       "      <td>Yes</td>\n",
       "      <td>Yes</td>\n",
       "      <td>...</td>\n",
       "      <td>False</td>\n",
       "      <td>False</td>\n",
       "      <td>False</td>\n",
       "      <td>True</td>\n",
       "      <td>0.0</td>\n",
       "      <td>1.0</td>\n",
       "      <td>Sandstone</td>\n",
       "      <td>0.0</td>\n",
       "      <td>0.0</td>\n",
       "      <td>1.0</td>\n",
       "    </tr>\n",
       "  </tbody>\n",
       "</table>\n",
       "<p>5 rows × 28 columns</p>\n",
       "</div>"
      ],
      "text/plain": [
       "                  Densities  Leakage              Trapping mechanism  \\\n",
       "Name                                                                   \n",
       "Jackson Dome          654.6        0  Structural and salt structures   \n",
       "El Trapial Field      141.0        0                Dome, Structural   \n",
       "Messokampos             0.9        1                   Stratigraphic   \n",
       "Budafa Field          451.6        0                             NaN   \n",
       "DF1-1 Field           378.3        0                 Mudstone Diapir   \n",
       "\n",
       "                 Fault bound/sealed?               Reservoir  \\\n",
       "Name                                                           \n",
       "Jackson Dome                     NaN  Carbonates; Sandstones   \n",
       "El Trapial Field                 NaN               Sandstone   \n",
       "Messokampos                      NaN                  Sands    \n",
       "Budafa Field                     NaN               Sandstone   \n",
       "DF1-1 Field                      NaN              Sandstones   \n",
       "\n",
       "                  Reservoir thickness (Gross)       Seal  Seal thickness  \\\n",
       "Name                                                                       \n",
       "Jackson Dome                              NaN  Mudstones             NaN   \n",
       "El Trapial Field                          NaN        NaN             NaN   \n",
       "Messokampos                             260.0       Clay            10.0   \n",
       "Budafa Field                            100.0          ?             NaN   \n",
       "DF1-1 Field                               NaN  Mudstones             NaN   \n",
       "\n",
       "                 Stacked resevoirs Offshore  ...  Trapmech_lithological  \\\n",
       "Name                                         ...                          \n",
       "Jackson Dome                   NaN       No  ...                  False   \n",
       "El Trapial Field               NaN       No  ...                  False   \n",
       "Messokampos                    NaN       No  ...                  False   \n",
       "Budafa Field                   Yes       No  ...                  False   \n",
       "DF1-1 Field                    Yes      Yes  ...                  False   \n",
       "\n",
       "                  Trapmech_dome  Trapmech_bound Trapmech_diapir  \\\n",
       "Name                                                              \n",
       "Jackson Dome              False           False            True   \n",
       "El Trapial Field           True           False           False   \n",
       "Messokampos               False           False           False   \n",
       "Budafa Field                NaN             NaN             NaN   \n",
       "DF1-1 Field               False           False            True   \n",
       "\n",
       "                 Faultbound_yes Faultbound_nan L1reservoir  \\\n",
       "Name                                                         \n",
       "Jackson Dome                0.0            1.0  Mixed_lith   \n",
       "El Trapial Field            0.0            1.0   Sandstone   \n",
       "Messokampos                 0.0            1.0   Sandstone   \n",
       "Budafa Field                0.0            1.0   Sandstone   \n",
       "DF1-1 Field                 0.0            1.0   Sandstone   \n",
       "\n",
       "                 L1reservoir_Carbonate  L1reservoir_Mixed_lith  \\\n",
       "Name                                                             \n",
       "Jackson Dome                       0.0                     1.0   \n",
       "El Trapial Field                   0.0                     0.0   \n",
       "Messokampos                        0.0                     0.0   \n",
       "Budafa Field                       0.0                     0.0   \n",
       "DF1-1 Field                        0.0                     0.0   \n",
       "\n",
       "                 L1reservoir_Sandstone  \n",
       "Name                                    \n",
       "Jackson Dome                       0.0  \n",
       "El Trapial Field                   1.0  \n",
       "Messokampos                        1.0  \n",
       "Budafa Field                       1.0  \n",
       "DF1-1 Field                        1.0  \n",
       "\n",
       "[5 rows x 28 columns]"
      ]
     },
     "execution_count": 33,
     "metadata": {},
     "output_type": "execute_result"
    }
   ],
   "source": [
    "#one-hot encode L1reservoir\n",
    "resv = OneHotEncoder()\n",
    "resv.fit(miocic[['L1reservoir']])\n",
    "resv_columns = pd.DataFrame(resv.transform(miocic[['L1reservoir']]).toarray(), \n",
    "                                  columns=resv.get_feature_names_out(), index=miocic.index)\n",
    "resv_columns.head()\n",
    "#in order to maintain linear independce, I need to drop a row. No data is lost when doing this.\n",
    "resv_columns.drop('L1reservoir_Other', axis=1, inplace=True)\n",
    "resv_columns.head()\n",
    "#merge with miocic\n",
    "miocic = pd.merge(miocic, resv_columns, left_on= 'Name', right_on='Name')\n",
    "miocic.head()"
   ]
  },
  {
   "cell_type": "code",
   "execution_count": 34,
   "id": "f83ef102-ec1b-4bc9-b2e6-18eb6bdf3b09",
   "metadata": {},
   "outputs": [],
   "source": [
    "#L2reservoir feature engineering\n",
    "\n",
    "#sandstones (including conglomerates)\n",
    "miocic['L2reservoir_sandstone'] = miocic['Reservoir'].str.contains(\n",
    "    r'[Ss]andstones?|[Cc]onglomerates?') #38 basins in this category\n",
    "#sands\n",
    "miocic['L2reservoir_sands'] = miocic['Reservoir'].str.strip().str.contains(\n",
    "    r'[Ss]ands?$') #1 basin\n",
    "#siltstone (including mudstone)\n",
    "miocic['L2reservoir_siltstone']= miocic['Reservoir'].str.contains(\n",
    "    r'[Mm]udstones?|[Ss]iltstones?') #6 basins\n",
    "#carbonates (including biolithite)\n",
    "miocic['L2reservoir_carbonate']= miocic['Reservoir'].str.contains(\n",
    "    r'[Cc]arbonates?|Biolithite') #14 basins\n",
    "#dolomites\n",
    "miocic['L2reservoir_dolomite'] = miocic['Reservoir'].str.contains(\n",
    "    r'[Dd]olomit') #7 basins\n",
    "#limestones \n",
    "miocic['L2reservoir_limestone'] = miocic['Reservoir'].str.contains(\n",
    "    r'[Ll]imestone') #10 basins\n",
    "#Evaporites (including anhydrites)\n",
    "miocic['L2reservoir_evaporite'] = miocic['Reservoir'].str.contains(\n",
    "    r'Anhydrite|Evaporite') # 2 basins\n",
    "#Volcanics\n",
    "miocic['L2reservoir_volcanic'] = miocic['Reservoir'].str.contains(\n",
    "    r'[Vv]olcanics?') # 2 basins\n",
    "#Basement\n",
    "miocic['L2reservoir_basement'] = miocic['Reservoir'].str.contains(\n",
    "    r'Basement') #1 basin"
   ]
  },
  {
   "cell_type": "markdown",
   "id": "70fb4e22-8673-4499-b88e-2011399b4539",
   "metadata": {},
   "source": [
    "## Thickness"
   ]
  },
  {
   "cell_type": "code",
   "execution_count": 35,
   "id": "0921b414-2db7-475a-9a12-51f1aab75fb2",
   "metadata": {},
   "outputs": [
    {
     "data": {
      "text/plain": [
       "18"
      ]
     },
     "execution_count": 35,
     "metadata": {},
     "output_type": "execute_result"
    }
   ],
   "source": [
    "sum(miocic['Reservoir thickness (Gross)'].isna())"
   ]
  },
  {
   "cell_type": "markdown",
   "id": "9d39d678-1b19-4293-a678-46c7f3fe21a7",
   "metadata": {},
   "source": [
    "There are 18 missing values. This is roughly 30% of the data."
   ]
  },
  {
   "cell_type": "code",
   "execution_count": 36,
   "id": "f04cafc3-d8c1-4ad2-a761-4d74c5f9fcf7",
   "metadata": {},
   "outputs": [
    {
     "data": {
      "text/plain": [
       "6"
      ]
     },
     "execution_count": 36,
     "metadata": {},
     "output_type": "execute_result"
    }
   ],
   "source": [
    "sum(miocic['Seal'].isna())"
   ]
  },
  {
   "cell_type": "code",
   "execution_count": 37,
   "id": "9ba4a8db-8e14-4b34-8f96-a768a004159c",
   "metadata": {},
   "outputs": [
    {
     "data": {
      "text/plain": [
       "Seal\n",
       "Mudstone                                    10\n",
       "Shale                                        9\n",
       "Mudstones                                    7\n",
       "Clay                                         1\n",
       "Evaporites; Shales                           1\n",
       "Salt                                         1\n",
       "?                                            1\n",
       "Claystone/Siltstone                          1\n",
       "Anhydrite & claystones                       1\n",
       "Mudstones; Anhydrite                         1\n",
       "Thrust deposits                              1\n",
       "Evaporite, Carbonates                        1\n",
       "Shale/Clay                                   1\n",
       "Shale and Siltstones                         1\n",
       "Halite                                       1\n",
       "Anhydrite; Mudstones                         1\n",
       "Marine sediments (mudstones?); Laccolith     1\n",
       "Shale & Limestone                            1\n",
       "Evaporites; Mudstones                        1\n",
       "Shale                                        1\n",
       "Claystone and Marlstone                      1\n",
       "Shale, Evaporites                            1\n",
       "Flysch and Volcanics                         1\n",
       "Evaporites (?)                               1\n",
       "Anhydrite                                    1\n",
       "Claystones                                   1\n",
       "Mudstone, Siltstone                          1\n",
       "Shale, Mudstone, basalt                      1\n",
       "Impermeable Conglomerates, Mudstone          1\n",
       "Gypsum-bearing clay rocks                    1\n",
       "Mudstones (lacustrine)                       1\n",
       "Carbonates                                   1\n",
       "Name: count, dtype: int64"
      ]
     },
     "execution_count": 37,
     "metadata": {},
     "output_type": "execute_result"
    }
   ],
   "source": [
    "miocic['Seal'].value_counts()"
   ]
  }
 ],
 "metadata": {
  "kernelspec": {
   "display_name": "Python 3 (ipykernel)",
   "language": "python",
   "name": "python3"
  },
  "language_info": {
   "codemirror_mode": {
    "name": "ipython",
    "version": 3
   },
   "file_extension": ".py",
   "mimetype": "text/x-python",
   "name": "python",
   "nbconvert_exporter": "python",
   "pygments_lexer": "ipython3",
   "version": "3.11.13"
  }
 },
 "nbformat": 4,
 "nbformat_minor": 5
}
